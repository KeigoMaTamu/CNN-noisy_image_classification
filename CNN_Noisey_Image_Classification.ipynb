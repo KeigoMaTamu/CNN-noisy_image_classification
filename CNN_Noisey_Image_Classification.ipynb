{
  "nbformat": 4,
  "nbformat_minor": 0,
  "metadata": {
    "colab": {
      "provenance": []
    },
    "kernelspec": {
      "name": "python3",
      "display_name": "Python 3"
    },
    "language_info": {
      "name": "python"
    },
    "accelerator": "GPU",
    "gpuClass": "standard"
  },
  "cells": [
    {
      "cell_type": "code",
      "execution_count": null,
      "metadata": {
        "id": "sKWS1AlINVXa"
      },
      "outputs": [],
      "source": [
        "import tensorflow as tf\n",
        "import pickle\n",
        "from pathlib import Path\n",
        "from tensorflow.keras.datasets import mnist\n",
        "from tensorflow.keras.layers import Conv2D, MaxPooling2D, UpSampling2D\n",
        "from tensorflow.keras.models import Sequential\n",
        "import numpy as np\n",
        "from tensorflow.keras.optimizers import SGD\n",
        "from matplotlib import pyplot as plt\n",
        "from tensorflow import keras\n",
        "from tensorflow.keras import layers\n",
        "from tensorflow.keras.layers import Dense, BatchNormalization\n",
        "from tensorflow.keras.layers import Flatten\n",
        "from tensorflow.keras.utils import to_categorical\n",
        "from tensorflow.keras import regularizers\n",
        "from keras.layers import Dropout\n",
        "from sklearn.model_selection import KFold\n",
        "from tensorflow.keras.initializers import RandomNormal"
      ]
    },
    {
      "cell_type": "code",
      "source": [
        "# processing dataset\n",
        "train_images = pickle.load(open('/content/drive/MyDrive/636_project1_train_images', 'rb'))\n",
        "train_labels = pickle.load(open('/content/drive/MyDrive/636_project1_train_labels', 'rb'))\n",
        "\n",
        "train_images_new = train_images[0:55000]\n",
        "train_labels_new = train_labels[0:55000]\n",
        "\n",
        "val_images = train_images[55000:59000]\n",
        "val_labels = train_labels[55000:59000]\n",
        "\n",
        "test_images = train_images[59000:60000]\n",
        "test_labels = train_labels[59000:60000]"
      ],
      "metadata": {
        "id": "ysfw9c8oO5n4"
      },
      "execution_count": null,
      "outputs": []
    },
    {
      "cell_type": "markdown",
      "source": [
        "# My model is called model_1, so you can use \"test_loss, test_acc = model_1.evaluate(test_images, test_labels)\" to run my model."
      ],
      "metadata": {
        "id": "-9oXewAopz7y"
      }
    },
    {
      "cell_type": "code",
      "source": [
        "import numpy as np\n",
        "import matplotlib.pyplot as plt\n",
        "\n",
        "\n",
        "train_images_new = np.reshape(train_images_new, (len(train_images_new), 28, 28))\n",
        "train_images_new = tf.cast(train_images_new, tf.float32) / 255.\n",
        "train_labels_new = to_categorical(train_labels_new)\n",
        "\n",
        "val_images = np.reshape(val_images, (len(val_images), 28, 28))\n",
        "val_images = tf.cast(val_images, tf.float32) / 255.\n",
        "val_labels = to_categorical(val_labels)\n",
        "\n",
        "def define_model(): #conv the images to 2d\n",
        " model = Sequential()\n",
        " model.add(Conv2D(32, (3, 3), activation='relu', kernel_initializer='he_uniform', input_shape=(28, 28, 1)))\n",
        " model.add(MaxPooling2D((2, 2))) #MaxPooling to prevent overfitting\n",
        " model.add(Conv2D(128, (3, 3), kernel_regularizer=regularizers.l2(0.002), activation='relu', kernel_initializer='he_uniform'))\n",
        " model.add(Conv2D(128, (3, 3), kernel_regularizer=regularizers.l2(0.002), activation='relu', kernel_initializer='he_uniform'))\n",
        " model.add(MaxPooling2D((2, 2)))\n",
        " model.add(Flatten())\n",
        " model.add(Dropout(0.4))#dropout for fix overfitting\n",
        " model.add(Dense(200, activation='relu', kernel_initializer='he_uniform'))\n",
        " model.add(Dense(10, activation='softmax'))\n",
        " # compile model\n",
        " opt = SGD(learning_rate=0.01, momentum=0.9)#differnt learning rate will help the model to learn the dataset\n",
        " model.compile(optimizer=opt, loss='categorical_crossentropy', metrics=['accuracy'])\n",
        " return model\n",
        "\n",
        "\n",
        "model_1 = define_model()\n",
        "history_f = model_1.fit(train_images_new, train_labels_new, \n",
        "           epochs=100, batch_size=128, validation_data=(val_images, val_labels), verbose=1)\n"
      ],
      "metadata": {
        "colab": {
          "base_uri": "https://localhost:8080/"
        },
        "id": "mdVyH3G-2W4c",
        "outputId": "f6566691-481a-4cd8-f1d1-ca5859db5b52"
      },
      "execution_count": null,
      "outputs": [
        {
          "output_type": "stream",
          "name": "stdout",
          "text": [
            "Epoch 1/100\n",
            "430/430 [==============================] - 5s 8ms/step - loss: 3.1321 - accuracy: 0.1583 - val_loss: 2.8343 - val_accuracy: 0.2465\n",
            "Epoch 2/100\n",
            "430/430 [==============================] - 3s 8ms/step - loss: 2.6678 - accuracy: 0.2720 - val_loss: 2.4688 - val_accuracy: 0.3160\n",
            "Epoch 3/100\n",
            "430/430 [==============================] - 4s 9ms/step - loss: 2.3854 - accuracy: 0.3184 - val_loss: 2.2684 - val_accuracy: 0.3307\n",
            "Epoch 4/100\n",
            "430/430 [==============================] - 4s 8ms/step - loss: 2.1962 - accuracy: 0.3436 - val_loss: 2.0676 - val_accuracy: 0.3715\n",
            "Epoch 5/100\n",
            "430/430 [==============================] - 3s 8ms/step - loss: 1.9510 - accuracy: 0.4065 - val_loss: 1.7696 - val_accuracy: 0.4773\n",
            "Epoch 6/100\n",
            "430/430 [==============================] - 3s 8ms/step - loss: 1.7131 - accuracy: 0.4764 - val_loss: 1.5692 - val_accuracy: 0.5200\n",
            "Epoch 7/100\n",
            "430/430 [==============================] - 4s 9ms/step - loss: 1.5711 - accuracy: 0.5152 - val_loss: 1.4830 - val_accuracy: 0.5405\n",
            "Epoch 8/100\n",
            "430/430 [==============================] - 3s 8ms/step - loss: 1.4907 - accuracy: 0.5375 - val_loss: 1.4129 - val_accuracy: 0.5592\n",
            "Epoch 9/100\n",
            "430/430 [==============================] - 3s 8ms/step - loss: 1.4407 - accuracy: 0.5494 - val_loss: 1.3554 - val_accuracy: 0.5817\n",
            "Epoch 10/100\n",
            "430/430 [==============================] - 3s 8ms/step - loss: 1.3876 - accuracy: 0.5598 - val_loss: 1.3257 - val_accuracy: 0.5870\n",
            "Epoch 11/100\n",
            "430/430 [==============================] - 4s 9ms/step - loss: 1.3611 - accuracy: 0.5677 - val_loss: 1.2792 - val_accuracy: 0.6010\n",
            "Epoch 12/100\n",
            "430/430 [==============================] - 3s 8ms/step - loss: 1.3286 - accuracy: 0.5749 - val_loss: 1.2710 - val_accuracy: 0.5990\n",
            "Epoch 13/100\n",
            "430/430 [==============================] - 3s 8ms/step - loss: 1.3086 - accuracy: 0.5802 - val_loss: 1.2393 - val_accuracy: 0.6105\n",
            "Epoch 14/100\n",
            "430/430 [==============================] - 3s 8ms/step - loss: 1.2800 - accuracy: 0.5869 - val_loss: 1.2317 - val_accuracy: 0.6085\n",
            "Epoch 15/100\n",
            "430/430 [==============================] - 4s 9ms/step - loss: 1.2646 - accuracy: 0.5923 - val_loss: 1.2026 - val_accuracy: 0.6180\n",
            "Epoch 16/100\n",
            "430/430 [==============================] - 3s 8ms/step - loss: 1.2544 - accuracy: 0.5958 - val_loss: 1.2007 - val_accuracy: 0.6173\n",
            "Epoch 17/100\n",
            "430/430 [==============================] - 3s 8ms/step - loss: 1.2366 - accuracy: 0.6007 - val_loss: 1.2014 - val_accuracy: 0.6230\n",
            "Epoch 18/100\n",
            "430/430 [==============================] - 4s 9ms/step - loss: 1.2279 - accuracy: 0.6043 - val_loss: 1.1821 - val_accuracy: 0.6212\n",
            "Epoch 19/100\n",
            "430/430 [==============================] - 4s 9ms/step - loss: 1.2164 - accuracy: 0.6062 - val_loss: 1.2409 - val_accuracy: 0.6020\n",
            "Epoch 20/100\n",
            "430/430 [==============================] - 3s 8ms/step - loss: 1.2013 - accuracy: 0.6113 - val_loss: 1.1635 - val_accuracy: 0.6323\n",
            "Epoch 21/100\n",
            "430/430 [==============================] - 4s 8ms/step - loss: 1.1933 - accuracy: 0.6139 - val_loss: 1.1346 - val_accuracy: 0.6445\n",
            "Epoch 22/100\n",
            "430/430 [==============================] - 4s 9ms/step - loss: 1.1825 - accuracy: 0.6186 - val_loss: 1.1767 - val_accuracy: 0.6215\n",
            "Epoch 23/100\n",
            "430/430 [==============================] - 4s 8ms/step - loss: 1.1806 - accuracy: 0.6145 - val_loss: 1.1294 - val_accuracy: 0.6435\n",
            "Epoch 24/100\n",
            "430/430 [==============================] - 3s 8ms/step - loss: 1.1707 - accuracy: 0.6232 - val_loss: 1.1469 - val_accuracy: 0.6380\n",
            "Epoch 25/100\n",
            "430/430 [==============================] - 3s 8ms/step - loss: 1.1615 - accuracy: 0.6257 - val_loss: 1.1333 - val_accuracy: 0.6410\n",
            "Epoch 26/100\n",
            "430/430 [==============================] - 4s 9ms/step - loss: 1.1630 - accuracy: 0.6243 - val_loss: 1.2055 - val_accuracy: 0.6190\n",
            "Epoch 27/100\n",
            "430/430 [==============================] - 4s 8ms/step - loss: 1.1504 - accuracy: 0.6266 - val_loss: 1.1773 - val_accuracy: 0.6248\n",
            "Epoch 28/100\n",
            "430/430 [==============================] - 3s 8ms/step - loss: 1.1422 - accuracy: 0.6309 - val_loss: 1.1399 - val_accuracy: 0.6378\n",
            "Epoch 29/100\n",
            "430/430 [==============================] - 3s 8ms/step - loss: 1.1406 - accuracy: 0.6290 - val_loss: 1.1551 - val_accuracy: 0.6275\n",
            "Epoch 30/100\n",
            "430/430 [==============================] - 4s 9ms/step - loss: 1.1405 - accuracy: 0.6298 - val_loss: 1.1187 - val_accuracy: 0.6467\n",
            "Epoch 31/100\n",
            "430/430 [==============================] - 3s 8ms/step - loss: 1.1262 - accuracy: 0.6333 - val_loss: 1.1051 - val_accuracy: 0.6495\n",
            "Epoch 32/100\n",
            "430/430 [==============================] - 3s 8ms/step - loss: 1.1291 - accuracy: 0.6340 - val_loss: 1.1009 - val_accuracy: 0.6435\n",
            "Epoch 33/100\n",
            "430/430 [==============================] - 4s 8ms/step - loss: 1.1207 - accuracy: 0.6360 - val_loss: 1.0995 - val_accuracy: 0.6488\n",
            "Epoch 34/100\n",
            "430/430 [==============================] - 4s 9ms/step - loss: 1.1158 - accuracy: 0.6397 - val_loss: 1.1167 - val_accuracy: 0.6518\n",
            "Epoch 35/100\n",
            "430/430 [==============================] - 3s 8ms/step - loss: 1.1116 - accuracy: 0.6381 - val_loss: 1.1113 - val_accuracy: 0.6490\n",
            "Epoch 36/100\n",
            "430/430 [==============================] - 3s 8ms/step - loss: 1.1050 - accuracy: 0.6422 - val_loss: 1.1174 - val_accuracy: 0.6420\n",
            "Epoch 37/100\n",
            "430/430 [==============================] - 4s 8ms/step - loss: 1.1024 - accuracy: 0.6414 - val_loss: 1.1186 - val_accuracy: 0.6410\n",
            "Epoch 38/100\n",
            "430/430 [==============================] - 4s 9ms/step - loss: 1.0929 - accuracy: 0.6466 - val_loss: 1.1121 - val_accuracy: 0.6380\n",
            "Epoch 39/100\n",
            "430/430 [==============================] - 3s 8ms/step - loss: 1.0904 - accuracy: 0.6473 - val_loss: 1.0993 - val_accuracy: 0.6505\n",
            "Epoch 40/100\n",
            "430/430 [==============================] - 3s 8ms/step - loss: 1.0941 - accuracy: 0.6449 - val_loss: 1.1043 - val_accuracy: 0.6560\n",
            "Epoch 41/100\n",
            "430/430 [==============================] - 4s 9ms/step - loss: 1.0874 - accuracy: 0.6489 - val_loss: 1.1192 - val_accuracy: 0.6388\n",
            "Epoch 42/100\n",
            "430/430 [==============================] - 4s 8ms/step - loss: 1.0821 - accuracy: 0.6508 - val_loss: 1.0983 - val_accuracy: 0.6545\n",
            "Epoch 43/100\n",
            "430/430 [==============================] - 3s 8ms/step - loss: 1.0758 - accuracy: 0.6527 - val_loss: 1.0852 - val_accuracy: 0.6612\n",
            "Epoch 44/100\n",
            "430/430 [==============================] - 3s 8ms/step - loss: 1.0770 - accuracy: 0.6523 - val_loss: 1.0863 - val_accuracy: 0.6520\n",
            "Epoch 45/100\n",
            "430/430 [==============================] - 4s 9ms/step - loss: 1.0700 - accuracy: 0.6533 - val_loss: 1.1194 - val_accuracy: 0.6453\n",
            "Epoch 46/100\n",
            "430/430 [==============================] - 4s 8ms/step - loss: 1.0749 - accuracy: 0.6520 - val_loss: 1.0918 - val_accuracy: 0.6570\n",
            "Epoch 47/100\n",
            "430/430 [==============================] - 3s 8ms/step - loss: 1.0647 - accuracy: 0.6538 - val_loss: 1.0785 - val_accuracy: 0.6585\n",
            "Epoch 48/100\n",
            "430/430 [==============================] - 3s 8ms/step - loss: 1.0651 - accuracy: 0.6570 - val_loss: 1.0808 - val_accuracy: 0.6575\n",
            "Epoch 49/100\n",
            "430/430 [==============================] - 4s 9ms/step - loss: 1.0577 - accuracy: 0.6594 - val_loss: 1.1027 - val_accuracy: 0.6547\n",
            "Epoch 50/100\n",
            "430/430 [==============================] - 3s 8ms/step - loss: 1.0575 - accuracy: 0.6586 - val_loss: 1.0907 - val_accuracy: 0.6585\n",
            "Epoch 51/100\n",
            "430/430 [==============================] - 3s 8ms/step - loss: 1.0450 - accuracy: 0.6643 - val_loss: 1.0850 - val_accuracy: 0.6620\n",
            "Epoch 52/100\n",
            "430/430 [==============================] - 3s 8ms/step - loss: 1.0519 - accuracy: 0.6610 - val_loss: 1.0828 - val_accuracy: 0.6570\n",
            "Epoch 53/100\n",
            "430/430 [==============================] - 4s 9ms/step - loss: 1.0493 - accuracy: 0.6612 - val_loss: 1.0735 - val_accuracy: 0.6622\n",
            "Epoch 54/100\n",
            "430/430 [==============================] - 3s 8ms/step - loss: 1.0451 - accuracy: 0.6641 - val_loss: 1.1000 - val_accuracy: 0.6575\n",
            "Epoch 55/100\n",
            "430/430 [==============================] - 3s 8ms/step - loss: 1.0407 - accuracy: 0.6658 - val_loss: 1.0703 - val_accuracy: 0.6625\n",
            "Epoch 56/100\n",
            "430/430 [==============================] - 4s 8ms/step - loss: 1.0415 - accuracy: 0.6644 - val_loss: 1.0807 - val_accuracy: 0.6580\n",
            "Epoch 57/100\n",
            "430/430 [==============================] - 4s 9ms/step - loss: 1.0313 - accuracy: 0.6691 - val_loss: 1.0823 - val_accuracy: 0.6550\n",
            "Epoch 58/100\n",
            "430/430 [==============================] - 3s 8ms/step - loss: 1.0356 - accuracy: 0.6675 - val_loss: 1.0794 - val_accuracy: 0.6607\n",
            "Epoch 59/100\n",
            "430/430 [==============================] - 3s 8ms/step - loss: 1.0290 - accuracy: 0.6701 - val_loss: 1.1549 - val_accuracy: 0.6355\n",
            "Epoch 60/100\n",
            "430/430 [==============================] - 4s 9ms/step - loss: 1.0265 - accuracy: 0.6689 - val_loss: 1.0639 - val_accuracy: 0.6653\n",
            "Epoch 61/100\n",
            "430/430 [==============================] - 4s 8ms/step - loss: 1.0278 - accuracy: 0.6688 - val_loss: 1.0805 - val_accuracy: 0.6610\n",
            "Epoch 62/100\n",
            "430/430 [==============================] - 3s 8ms/step - loss: 1.0226 - accuracy: 0.6708 - val_loss: 1.0823 - val_accuracy: 0.6500\n",
            "Epoch 63/100\n",
            "430/430 [==============================] - 3s 8ms/step - loss: 1.0147 - accuracy: 0.6743 - val_loss: 1.0690 - val_accuracy: 0.6572\n",
            "Epoch 64/100\n",
            "430/430 [==============================] - 4s 9ms/step - loss: 1.0175 - accuracy: 0.6720 - val_loss: 1.0727 - val_accuracy: 0.6633\n",
            "Epoch 65/100\n",
            "430/430 [==============================] - 4s 8ms/step - loss: 1.0152 - accuracy: 0.6738 - val_loss: 1.0878 - val_accuracy: 0.6600\n",
            "Epoch 66/100\n",
            "430/430 [==============================] - 3s 8ms/step - loss: 1.0116 - accuracy: 0.6747 - val_loss: 1.0769 - val_accuracy: 0.6668\n",
            "Epoch 67/100\n",
            "430/430 [==============================] - 3s 8ms/step - loss: 1.0081 - accuracy: 0.6771 - val_loss: 1.0856 - val_accuracy: 0.6597\n",
            "Epoch 68/100\n",
            "430/430 [==============================] - 4s 9ms/step - loss: 1.0113 - accuracy: 0.6767 - val_loss: 1.0852 - val_accuracy: 0.6572\n",
            "Epoch 69/100\n",
            "430/430 [==============================] - 4s 8ms/step - loss: 1.0063 - accuracy: 0.6785 - val_loss: 1.0798 - val_accuracy: 0.6633\n",
            "Epoch 70/100\n",
            "430/430 [==============================] - 3s 8ms/step - loss: 1.0085 - accuracy: 0.6758 - val_loss: 1.0727 - val_accuracy: 0.6635\n",
            "Epoch 71/100\n",
            "430/430 [==============================] - 3s 8ms/step - loss: 0.9987 - accuracy: 0.6781 - val_loss: 1.0866 - val_accuracy: 0.6600\n",
            "Epoch 72/100\n",
            "430/430 [==============================] - 4s 9ms/step - loss: 1.0057 - accuracy: 0.6777 - val_loss: 1.0687 - val_accuracy: 0.6643\n",
            "Epoch 73/100\n",
            "430/430 [==============================] - 3s 8ms/step - loss: 0.9965 - accuracy: 0.6810 - val_loss: 1.0751 - val_accuracy: 0.6640\n",
            "Epoch 74/100\n",
            "430/430 [==============================] - 3s 8ms/step - loss: 0.9985 - accuracy: 0.6802 - val_loss: 1.1078 - val_accuracy: 0.6538\n",
            "Epoch 75/100\n",
            "430/430 [==============================] - 4s 8ms/step - loss: 0.9911 - accuracy: 0.6822 - val_loss: 1.0801 - val_accuracy: 0.6653\n",
            "Epoch 76/100\n",
            "430/430 [==============================] - 4s 9ms/step - loss: 0.9924 - accuracy: 0.6849 - val_loss: 1.0980 - val_accuracy: 0.6572\n",
            "Epoch 77/100\n",
            "430/430 [==============================] - 3s 8ms/step - loss: 0.9910 - accuracy: 0.6839 - val_loss: 1.0880 - val_accuracy: 0.6635\n",
            "Epoch 78/100\n",
            "430/430 [==============================] - 3s 8ms/step - loss: 0.9813 - accuracy: 0.6864 - val_loss: 1.1084 - val_accuracy: 0.6587\n",
            "Epoch 79/100\n",
            "430/430 [==============================] - 4s 8ms/step - loss: 0.9844 - accuracy: 0.6857 - val_loss: 1.0802 - val_accuracy: 0.6637\n",
            "Epoch 80/100\n",
            "430/430 [==============================] - 4s 9ms/step - loss: 0.9798 - accuracy: 0.6899 - val_loss: 1.0972 - val_accuracy: 0.6572\n",
            "Epoch 81/100\n",
            "430/430 [==============================] - 3s 8ms/step - loss: 0.9882 - accuracy: 0.6860 - val_loss: 1.0907 - val_accuracy: 0.6587\n",
            "Epoch 82/100\n",
            "430/430 [==============================] - 3s 8ms/step - loss: 0.9775 - accuracy: 0.6891 - val_loss: 1.1043 - val_accuracy: 0.6585\n",
            "Epoch 83/100\n",
            "430/430 [==============================] - 4s 9ms/step - loss: 0.9685 - accuracy: 0.6917 - val_loss: 1.0839 - val_accuracy: 0.6622\n",
            "Epoch 84/100\n",
            "430/430 [==============================] - 4s 9ms/step - loss: 0.9707 - accuracy: 0.6907 - val_loss: 1.0935 - val_accuracy: 0.6575\n",
            "Epoch 85/100\n",
            "430/430 [==============================] - 3s 8ms/step - loss: 0.9725 - accuracy: 0.6923 - val_loss: 1.0983 - val_accuracy: 0.6603\n",
            "Epoch 86/100\n",
            "430/430 [==============================] - 3s 8ms/step - loss: 0.9669 - accuracy: 0.6952 - val_loss: 1.1038 - val_accuracy: 0.6628\n",
            "Epoch 87/100\n",
            "430/430 [==============================] - 4s 9ms/step - loss: 0.9700 - accuracy: 0.6938 - val_loss: 1.0931 - val_accuracy: 0.6622\n",
            "Epoch 88/100\n",
            "430/430 [==============================] - 4s 8ms/step - loss: 0.9657 - accuracy: 0.6933 - val_loss: 1.1429 - val_accuracy: 0.6492\n",
            "Epoch 89/100\n",
            "430/430 [==============================] - 3s 8ms/step - loss: 0.9661 - accuracy: 0.6956 - val_loss: 1.0943 - val_accuracy: 0.6585\n",
            "Epoch 90/100\n",
            "430/430 [==============================] - 3s 8ms/step - loss: 0.9599 - accuracy: 0.6977 - val_loss: 1.0822 - val_accuracy: 0.6630\n",
            "Epoch 91/100\n",
            "430/430 [==============================] - 4s 9ms/step - loss: 0.9603 - accuracy: 0.6970 - val_loss: 1.1071 - val_accuracy: 0.6580\n",
            "Epoch 92/100\n",
            "430/430 [==============================] - 3s 8ms/step - loss: 0.9545 - accuracy: 0.6995 - val_loss: 1.1053 - val_accuracy: 0.6575\n",
            "Epoch 93/100\n",
            "430/430 [==============================] - 3s 8ms/step - loss: 0.9515 - accuracy: 0.7021 - val_loss: 1.1136 - val_accuracy: 0.6603\n",
            "Epoch 94/100\n",
            "430/430 [==============================] - 4s 8ms/step - loss: 0.9578 - accuracy: 0.6988 - val_loss: 1.1331 - val_accuracy: 0.6547\n",
            "Epoch 95/100\n",
            "430/430 [==============================] - 4s 9ms/step - loss: 0.9431 - accuracy: 0.7039 - val_loss: 1.0832 - val_accuracy: 0.6653\n",
            "Epoch 96/100\n",
            "430/430 [==============================] - 3s 8ms/step - loss: 0.9496 - accuracy: 0.7013 - val_loss: 1.0929 - val_accuracy: 0.6640\n",
            "Epoch 97/100\n",
            "430/430 [==============================] - 3s 8ms/step - loss: 0.9428 - accuracy: 0.7034 - val_loss: 1.1046 - val_accuracy: 0.6665\n",
            "Epoch 98/100\n",
            "430/430 [==============================] - 4s 9ms/step - loss: 0.9448 - accuracy: 0.7061 - val_loss: 1.1134 - val_accuracy: 0.6660\n",
            "Epoch 99/100\n",
            "430/430 [==============================] - 4s 9ms/step - loss: 0.9432 - accuracy: 0.7059 - val_loss: 1.0983 - val_accuracy: 0.6683\n",
            "Epoch 100/100\n",
            "430/430 [==============================] - 3s 8ms/step - loss: 0.9374 - accuracy: 0.7049 - val_loss: 1.0856 - val_accuracy: 0.6658\n"
          ]
        }
      ]
    },
    {
      "cell_type": "code",
      "source": [
        "import matplotlib.pyplot as plt\n",
        "loss_value = history_f.history[\"loss\"]\n",
        "acc = history_f.history[\"accuracy\"]\n",
        "val_loss = history_f.history[\"val_loss\"]\n",
        "val_acc = history_f.history[\"val_accuracy\"]\n",
        "epochs = range(1, 101)\n",
        "plt.plot(epochs, loss_value, \"bo\", label=\"Training loss\")\n",
        "plt.plot(epochs, val_loss, \"b--\",\n",
        "         label=\"Validation loss\")\n",
        "plt.title(\"Training loss VS Validation loss\")\n",
        "plt.xlabel(\"Epochs\")\n",
        "plt.ylabel(\"Loss\")\n",
        "plt.legend()"
      ],
      "metadata": {
        "id": "nJD6L-kE6suf",
        "colab": {
          "base_uri": "https://localhost:8080/",
          "height": 312
        },
        "outputId": "cce6575f-838d-4aa3-8658-18d4dac3e376"
      },
      "execution_count": null,
      "outputs": [
        {
          "output_type": "execute_result",
          "data": {
            "text/plain": [
              "<matplotlib.legend.Legend at 0x7fe2cd09f610>"
            ]
          },
          "metadata": {},
          "execution_count": 23
        },
        {
          "output_type": "display_data",
          "data": {
            "text/plain": [
              "<Figure size 432x288 with 1 Axes>"
            ],
            "image/png": "[encoded data removed]"
          },
          "metadata": {
            "needs_background": "light"
          }
        }
      ]
    },
    {
      "cell_type": "code",
      "source": [
        "epochs = range(1, 101)\n",
        "plt.plot(epochs, acc, \"bo\", label=\"Training accuracy\")\n",
        "plt.plot(epochs, val_acc, \"b--\",\n",
        "         label=\"Validation accuracy\")\n",
        "plt.title(\"Training accuracy VS Validation accuracy\")\n",
        "plt.xlabel(\"Epochs\")\n",
        "plt.ylabel(\"Loss\")\n",
        "plt.legend()"
      ],
      "metadata": {
        "id": "81-Hvs63Ksta",
        "colab": {
          "base_uri": "https://localhost:8080/",
          "height": 312
        },
        "outputId": "44e8b57f-ddda-4b08-ed8e-d5e4aee19381"
      },
      "execution_count": null,
      "outputs": [
        {
          "output_type": "execute_result",
          "data": {
            "text/plain": [
              "<matplotlib.legend.Legend at 0x7fe2ccd6cd00>"
            ]
          },
          "metadata": {},
          "execution_count": 25
        },
        {
          "output_type": "display_data",
          "data": {
            "text/plain": [
              "<Figure size 432x288 with 1 Axes>"
            ],
            "image/png": "[encoded data removed]"
          },
          "metadata": {
            "needs_background": "light"
          }
        }
      ]
    },
    {
      "cell_type": "code",
      "source": [
        "test_images = np.reshape(test_images, (len(test_images), 28, 28))\n",
        "test_images = tf.cast(test_images, tf.float32) / 255.\n",
        "test_labels = to_categorical(test_labels)\n",
        "_, acc = model_1.evaluate(test_images, test_labels, verbose=1)\n",
        "print('> %.3f' % (acc * 100.0))"
      ],
      "metadata": {
        "id": "P8TnK9nEPD1f",
        "colab": {
          "base_uri": "https://localhost:8080/"
        },
        "outputId": "b2b15fd6-6b44-496f-c39b-be1580fcdf6a"
      },
      "execution_count": null,
      "outputs": [
        {
          "output_type": "stream",
          "name": "stdout",
          "text": [
            "32/32 [==============================] - 0s 4ms/step - loss: 1.0721 - accuracy: 0.6640\n",
            "> 66.400\n"
          ]
        }
      ]
    }
  ]
}